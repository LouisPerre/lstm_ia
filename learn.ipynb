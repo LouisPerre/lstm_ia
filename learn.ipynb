{
 "cells": [
  {
   "cell_type": "code",
   "execution_count": 403,
   "id": "dfb0dd2f-6bed-4adb-a03f-68778b6e4cc4",
   "metadata": {},
   "outputs": [
    {
     "data": {
      "text/html": [
       "<div>\n",
       "<style scoped>\n",
       "    .dataframe tbody tr th:only-of-type {\n",
       "        vertical-align: middle;\n",
       "    }\n",
       "\n",
       "    .dataframe tbody tr th {\n",
       "        vertical-align: top;\n",
       "    }\n",
       "\n",
       "    .dataframe thead th {\n",
       "        text-align: right;\n",
       "    }\n",
       "</style>\n",
       "<table border=\"1\" class=\"dataframe\">\n",
       "  <thead>\n",
       "    <tr style=\"text-align: right;\">\n",
       "      <th></th>\n",
       "      <th>Date</th>\n",
       "      <th>Open</th>\n",
       "      <th>High</th>\n",
       "      <th>Low</th>\n",
       "      <th>Close</th>\n",
       "      <th>Adj Close</th>\n",
       "      <th>Volume</th>\n",
       "    </tr>\n",
       "  </thead>\n",
       "  <tbody>\n",
       "    <tr>\n",
       "      <th>0</th>\n",
       "      <td>1997-05-15</td>\n",
       "      <td>0.121875</td>\n",
       "      <td>0.125000</td>\n",
       "      <td>0.096354</td>\n",
       "      <td>0.097917</td>\n",
       "      <td>0.097917</td>\n",
       "      <td>1443120000</td>\n",
       "    </tr>\n",
       "    <tr>\n",
       "      <th>1</th>\n",
       "      <td>1997-05-16</td>\n",
       "      <td>0.098438</td>\n",
       "      <td>0.098958</td>\n",
       "      <td>0.085417</td>\n",
       "      <td>0.086458</td>\n",
       "      <td>0.086458</td>\n",
       "      <td>294000000</td>\n",
       "    </tr>\n",
       "    <tr>\n",
       "      <th>2</th>\n",
       "      <td>1997-05-19</td>\n",
       "      <td>0.088021</td>\n",
       "      <td>0.088542</td>\n",
       "      <td>0.081250</td>\n",
       "      <td>0.085417</td>\n",
       "      <td>0.085417</td>\n",
       "      <td>122136000</td>\n",
       "    </tr>\n",
       "    <tr>\n",
       "      <th>3</th>\n",
       "      <td>1997-05-20</td>\n",
       "      <td>0.086458</td>\n",
       "      <td>0.087500</td>\n",
       "      <td>0.081771</td>\n",
       "      <td>0.081771</td>\n",
       "      <td>0.081771</td>\n",
       "      <td>109344000</td>\n",
       "    </tr>\n",
       "    <tr>\n",
       "      <th>4</th>\n",
       "      <td>1997-05-21</td>\n",
       "      <td>0.081771</td>\n",
       "      <td>0.082292</td>\n",
       "      <td>0.068750</td>\n",
       "      <td>0.071354</td>\n",
       "      <td>0.071354</td>\n",
       "      <td>377064000</td>\n",
       "    </tr>\n",
       "    <tr>\n",
       "      <th>...</th>\n",
       "      <td>...</td>\n",
       "      <td>...</td>\n",
       "      <td>...</td>\n",
       "      <td>...</td>\n",
       "      <td>...</td>\n",
       "      <td>...</td>\n",
       "      <td>...</td>\n",
       "    </tr>\n",
       "    <tr>\n",
       "      <th>6511</th>\n",
       "      <td>2023-03-30</td>\n",
       "      <td>101.550003</td>\n",
       "      <td>103.040001</td>\n",
       "      <td>101.010002</td>\n",
       "      <td>102.000000</td>\n",
       "      <td>102.000000</td>\n",
       "      <td>53633400</td>\n",
       "    </tr>\n",
       "    <tr>\n",
       "      <th>6512</th>\n",
       "      <td>2023-03-31</td>\n",
       "      <td>102.160004</td>\n",
       "      <td>103.489998</td>\n",
       "      <td>101.949997</td>\n",
       "      <td>103.290001</td>\n",
       "      <td>103.290001</td>\n",
       "      <td>56704300</td>\n",
       "    </tr>\n",
       "    <tr>\n",
       "      <th>6513</th>\n",
       "      <td>2023-04-03</td>\n",
       "      <td>102.300003</td>\n",
       "      <td>103.290001</td>\n",
       "      <td>101.430000</td>\n",
       "      <td>102.410004</td>\n",
       "      <td>102.410004</td>\n",
       "      <td>41135700</td>\n",
       "    </tr>\n",
       "    <tr>\n",
       "      <th>6514</th>\n",
       "      <td>2023-04-04</td>\n",
       "      <td>102.750000</td>\n",
       "      <td>104.199997</td>\n",
       "      <td>102.110001</td>\n",
       "      <td>103.949997</td>\n",
       "      <td>103.949997</td>\n",
       "      <td>48662500</td>\n",
       "    </tr>\n",
       "    <tr>\n",
       "      <th>6515</th>\n",
       "      <td>2023-04-05</td>\n",
       "      <td>103.910004</td>\n",
       "      <td>103.910004</td>\n",
       "      <td>100.750000</td>\n",
       "      <td>101.099998</td>\n",
       "      <td>101.099998</td>\n",
       "      <td>45103000</td>\n",
       "    </tr>\n",
       "  </tbody>\n",
       "</table>\n",
       "<p>6516 rows × 7 columns</p>\n",
       "</div>"
      ],
      "text/plain": [
       "            Date        Open        High         Low       Close   Adj Close  \\\n",
       "0     1997-05-15    0.121875    0.125000    0.096354    0.097917    0.097917   \n",
       "1     1997-05-16    0.098438    0.098958    0.085417    0.086458    0.086458   \n",
       "2     1997-05-19    0.088021    0.088542    0.081250    0.085417    0.085417   \n",
       "3     1997-05-20    0.086458    0.087500    0.081771    0.081771    0.081771   \n",
       "4     1997-05-21    0.081771    0.082292    0.068750    0.071354    0.071354   \n",
       "...          ...         ...         ...         ...         ...         ...   \n",
       "6511  2023-03-30  101.550003  103.040001  101.010002  102.000000  102.000000   \n",
       "6512  2023-03-31  102.160004  103.489998  101.949997  103.290001  103.290001   \n",
       "6513  2023-04-03  102.300003  103.290001  101.430000  102.410004  102.410004   \n",
       "6514  2023-04-04  102.750000  104.199997  102.110001  103.949997  103.949997   \n",
       "6515  2023-04-05  103.910004  103.910004  100.750000  101.099998  101.099998   \n",
       "\n",
       "          Volume  \n",
       "0     1443120000  \n",
       "1      294000000  \n",
       "2      122136000  \n",
       "3      109344000  \n",
       "4      377064000  \n",
       "...          ...  \n",
       "6511    53633400  \n",
       "6512    56704300  \n",
       "6513    41135700  \n",
       "6514    48662500  \n",
       "6515    45103000  \n",
       "\n",
       "[6516 rows x 7 columns]"
      ]
     },
     "execution_count": 403,
     "metadata": {},
     "output_type": "execute_result"
    }
   ],
   "source": [
    "import pandas as pd\n",
    "import numpy as np\n",
    "import matplotlib.pyplot as plt\n",
    "import torch\n",
    "import torch.nn as nn\n",
    "from torch.utils.tensorboard import SummaryWriter\n",
    "writer = SummaryWriter(log_dir=\"runs/AAPL_stock_prediction_2\")\n",
    "\n",
    "data = pd.read_csv('AMZN.csv')\n",
    "\n",
    "data"
   ]
  },
  {
   "cell_type": "code",
   "execution_count": 404,
   "id": "876babec-885f-4d03-9945-07b4a38dbc28",
   "metadata": {},
   "outputs": [
    {
     "data": {
      "text/html": [
       "<div>\n",
       "<style scoped>\n",
       "    .dataframe tbody tr th:only-of-type {\n",
       "        vertical-align: middle;\n",
       "    }\n",
       "\n",
       "    .dataframe tbody tr th {\n",
       "        vertical-align: top;\n",
       "    }\n",
       "\n",
       "    .dataframe thead th {\n",
       "        text-align: right;\n",
       "    }\n",
       "</style>\n",
       "<table border=\"1\" class=\"dataframe\">\n",
       "  <thead>\n",
       "    <tr style=\"text-align: right;\">\n",
       "      <th></th>\n",
       "      <th>Date</th>\n",
       "      <th>Close</th>\n",
       "    </tr>\n",
       "  </thead>\n",
       "  <tbody>\n",
       "    <tr>\n",
       "      <th>0</th>\n",
       "      <td>1997-05-15</td>\n",
       "      <td>0.097917</td>\n",
       "    </tr>\n",
       "    <tr>\n",
       "      <th>1</th>\n",
       "      <td>1997-05-16</td>\n",
       "      <td>0.086458</td>\n",
       "    </tr>\n",
       "    <tr>\n",
       "      <th>2</th>\n",
       "      <td>1997-05-19</td>\n",
       "      <td>0.085417</td>\n",
       "    </tr>\n",
       "    <tr>\n",
       "      <th>3</th>\n",
       "      <td>1997-05-20</td>\n",
       "      <td>0.081771</td>\n",
       "    </tr>\n",
       "    <tr>\n",
       "      <th>4</th>\n",
       "      <td>1997-05-21</td>\n",
       "      <td>0.071354</td>\n",
       "    </tr>\n",
       "    <tr>\n",
       "      <th>...</th>\n",
       "      <td>...</td>\n",
       "      <td>...</td>\n",
       "    </tr>\n",
       "    <tr>\n",
       "      <th>6511</th>\n",
       "      <td>2023-03-30</td>\n",
       "      <td>102.000000</td>\n",
       "    </tr>\n",
       "    <tr>\n",
       "      <th>6512</th>\n",
       "      <td>2023-03-31</td>\n",
       "      <td>103.290001</td>\n",
       "    </tr>\n",
       "    <tr>\n",
       "      <th>6513</th>\n",
       "      <td>2023-04-03</td>\n",
       "      <td>102.410004</td>\n",
       "    </tr>\n",
       "    <tr>\n",
       "      <th>6514</th>\n",
       "      <td>2023-04-04</td>\n",
       "      <td>103.949997</td>\n",
       "    </tr>\n",
       "    <tr>\n",
       "      <th>6515</th>\n",
       "      <td>2023-04-05</td>\n",
       "      <td>101.099998</td>\n",
       "    </tr>\n",
       "  </tbody>\n",
       "</table>\n",
       "<p>6516 rows × 2 columns</p>\n",
       "</div>"
      ],
      "text/plain": [
       "            Date       Close\n",
       "0     1997-05-15    0.097917\n",
       "1     1997-05-16    0.086458\n",
       "2     1997-05-19    0.085417\n",
       "3     1997-05-20    0.081771\n",
       "4     1997-05-21    0.071354\n",
       "...          ...         ...\n",
       "6511  2023-03-30  102.000000\n",
       "6512  2023-03-31  103.290001\n",
       "6513  2023-04-03  102.410004\n",
       "6514  2023-04-04  103.949997\n",
       "6515  2023-04-05  101.099998\n",
       "\n",
       "[6516 rows x 2 columns]"
      ]
     },
     "execution_count": 404,
     "metadata": {},
     "output_type": "execute_result"
    }
   ],
   "source": [
    "data = data[['Date', 'Close']]\n",
    "data"
   ]
  },
  {
   "cell_type": "code",
   "execution_count": 405,
   "id": "94b1be08-309d-4c5b-bee5-d3c9e4439c19",
   "metadata": {},
   "outputs": [
    {
     "data": {
      "text/plain": [
       "'mps'"
      ]
     },
     "execution_count": 405,
     "metadata": {},
     "output_type": "execute_result"
    }
   ],
   "source": [
    "device = 'cuda:0' if torch.cuda.is_available() else 'mps'\n",
    "device"
   ]
  },
  {
   "cell_type": "code",
   "execution_count": 406,
   "id": "681bc340-1fae-461c-8c01-4eca156f9646",
   "metadata": {},
   "outputs": [
    {
     "name": "stderr",
     "output_type": "stream",
     "text": [
      "/var/folders/0_/gschhs596250ygzy70q0br4r0000gn/T/ipykernel_46547/813086950.py:2: SettingWithCopyWarning: \n",
      "A value is trying to be set on a copy of a slice from a DataFrame.\n",
      "Try using .loc[row_indexer,col_indexer] = value instead\n",
      "\n",
      "See the caveats in the documentation: https://pandas.pydata.org/pandas-docs/stable/user_guide/indexing.html#returning-a-view-versus-a-copy\n",
      "  data['Date'] = pd.to_datetime(data['Date'])\n"
     ]
    },
    {
     "data": {
      "text/plain": [
       "[<matplotlib.lines.Line2D at 0x3afc84eb0>]"
      ]
     },
     "execution_count": 406,
     "metadata": {},
     "output_type": "execute_result"
    },
    {
     "data": {
      "image/png": "[encoded data removed]",
      "text/plain": [
       "<Figure size 640x480 with 1 Axes>"
      ]
     },
     "metadata": {},
     "output_type": "display_data"
    }
   ],
   "source": [
    "# Transform to a panda date type\n",
    "data['Date'] = pd.to_datetime(data['Date'])\n",
    "# Do a graph of the closing value with the date\n",
    "plt.plot(data['Date'], data['Close'])"
   ]
  },
  {
   "cell_type": "code",
   "execution_count": 407,
   "id": "a7ea1fee-81f3-42cd-b0cb-2b983ab40c97",
   "metadata": {},
   "outputs": [
    {
     "data": {
      "text/html": [
       "<div>\n",
       "<style scoped>\n",
       "    .dataframe tbody tr th:only-of-type {\n",
       "        vertical-align: middle;\n",
       "    }\n",
       "\n",
       "    .dataframe tbody tr th {\n",
       "        vertical-align: top;\n",
       "    }\n",
       "\n",
       "    .dataframe thead th {\n",
       "        text-align: right;\n",
       "    }\n",
       "</style>\n",
       "<table border=\"1\" class=\"dataframe\">\n",
       "  <thead>\n",
       "    <tr style=\"text-align: right;\">\n",
       "      <th></th>\n",
       "      <th>Close</th>\n",
       "      <th>Close(t-1)</th>\n",
       "      <th>Close(t-2)</th>\n",
       "      <th>Close(t-3)</th>\n",
       "      <th>Close(t-4)</th>\n",
       "      <th>Close(t-5)</th>\n",
       "      <th>Close(t-6)</th>\n",
       "      <th>Close(t-7)</th>\n",
       "      <th>Close(t-8)</th>\n",
       "      <th>Close(t-9)</th>\n",
       "      <th>Close(t-10)</th>\n",
       "      <th>Close(t-11)</th>\n",
       "      <th>Close(t-12)</th>\n",
       "      <th>Close(t-13)</th>\n",
       "      <th>Close(t-14)</th>\n",
       "    </tr>\n",
       "    <tr>\n",
       "      <th>Date</th>\n",
       "      <th></th>\n",
       "      <th></th>\n",
       "      <th></th>\n",
       "      <th></th>\n",
       "      <th></th>\n",
       "      <th></th>\n",
       "      <th></th>\n",
       "      <th></th>\n",
       "      <th></th>\n",
       "      <th></th>\n",
       "      <th></th>\n",
       "      <th></th>\n",
       "      <th></th>\n",
       "      <th></th>\n",
       "      <th></th>\n",
       "    </tr>\n",
       "  </thead>\n",
       "  <tbody>\n",
       "    <tr>\n",
       "      <th>1997-06-05</th>\n",
       "      <td>0.077083</td>\n",
       "      <td>0.070833</td>\n",
       "      <td>0.073958</td>\n",
       "      <td>0.075521</td>\n",
       "      <td>0.075000</td>\n",
       "      <td>0.075260</td>\n",
       "      <td>0.076563</td>\n",
       "      <td>0.079167</td>\n",
       "      <td>0.075000</td>\n",
       "      <td>0.069792</td>\n",
       "      <td>0.071354</td>\n",
       "      <td>0.081771</td>\n",
       "      <td>0.085417</td>\n",
       "      <td>0.086458</td>\n",
       "      <td>0.097917</td>\n",
       "    </tr>\n",
       "    <tr>\n",
       "      <th>1997-06-06</th>\n",
       "      <td>0.082813</td>\n",
       "      <td>0.077083</td>\n",
       "      <td>0.070833</td>\n",
       "      <td>0.073958</td>\n",
       "      <td>0.075521</td>\n",
       "      <td>0.075000</td>\n",
       "      <td>0.075260</td>\n",
       "      <td>0.076563</td>\n",
       "      <td>0.079167</td>\n",
       "      <td>0.075000</td>\n",
       "      <td>0.069792</td>\n",
       "      <td>0.071354</td>\n",
       "      <td>0.081771</td>\n",
       "      <td>0.085417</td>\n",
       "      <td>0.086458</td>\n",
       "    </tr>\n",
       "    <tr>\n",
       "      <th>1997-06-09</th>\n",
       "      <td>0.084375</td>\n",
       "      <td>0.082813</td>\n",
       "      <td>0.077083</td>\n",
       "      <td>0.070833</td>\n",
       "      <td>0.073958</td>\n",
       "      <td>0.075521</td>\n",
       "      <td>0.075000</td>\n",
       "      <td>0.075260</td>\n",
       "      <td>0.076563</td>\n",
       "      <td>0.079167</td>\n",
       "      <td>0.075000</td>\n",
       "      <td>0.069792</td>\n",
       "      <td>0.071354</td>\n",
       "      <td>0.081771</td>\n",
       "      <td>0.085417</td>\n",
       "    </tr>\n",
       "    <tr>\n",
       "      <th>1997-06-10</th>\n",
       "      <td>0.079167</td>\n",
       "      <td>0.084375</td>\n",
       "      <td>0.082813</td>\n",
       "      <td>0.077083</td>\n",
       "      <td>0.070833</td>\n",
       "      <td>0.073958</td>\n",
       "      <td>0.075521</td>\n",
       "      <td>0.075000</td>\n",
       "      <td>0.075260</td>\n",
       "      <td>0.076563</td>\n",
       "      <td>0.079167</td>\n",
       "      <td>0.075000</td>\n",
       "      <td>0.069792</td>\n",
       "      <td>0.071354</td>\n",
       "      <td>0.081771</td>\n",
       "    </tr>\n",
       "    <tr>\n",
       "      <th>1997-06-11</th>\n",
       "      <td>0.077083</td>\n",
       "      <td>0.079167</td>\n",
       "      <td>0.084375</td>\n",
       "      <td>0.082813</td>\n",
       "      <td>0.077083</td>\n",
       "      <td>0.070833</td>\n",
       "      <td>0.073958</td>\n",
       "      <td>0.075521</td>\n",
       "      <td>0.075000</td>\n",
       "      <td>0.075260</td>\n",
       "      <td>0.076563</td>\n",
       "      <td>0.079167</td>\n",
       "      <td>0.075000</td>\n",
       "      <td>0.069792</td>\n",
       "      <td>0.071354</td>\n",
       "    </tr>\n",
       "    <tr>\n",
       "      <th>...</th>\n",
       "      <td>...</td>\n",
       "      <td>...</td>\n",
       "      <td>...</td>\n",
       "      <td>...</td>\n",
       "      <td>...</td>\n",
       "      <td>...</td>\n",
       "      <td>...</td>\n",
       "      <td>...</td>\n",
       "      <td>...</td>\n",
       "      <td>...</td>\n",
       "      <td>...</td>\n",
       "      <td>...</td>\n",
       "      <td>...</td>\n",
       "      <td>...</td>\n",
       "      <td>...</td>\n",
       "    </tr>\n",
       "    <tr>\n",
       "      <th>2023-03-30</th>\n",
       "      <td>102.000000</td>\n",
       "      <td>100.250000</td>\n",
       "      <td>97.239998</td>\n",
       "      <td>98.040001</td>\n",
       "      <td>98.129997</td>\n",
       "      <td>98.709999</td>\n",
       "      <td>98.699997</td>\n",
       "      <td>100.610001</td>\n",
       "      <td>97.709999</td>\n",
       "      <td>98.949997</td>\n",
       "      <td>100.040001</td>\n",
       "      <td>96.199997</td>\n",
       "      <td>94.879997</td>\n",
       "      <td>92.430000</td>\n",
       "      <td>90.730003</td>\n",
       "    </tr>\n",
       "    <tr>\n",
       "      <th>2023-03-31</th>\n",
       "      <td>103.290001</td>\n",
       "      <td>102.000000</td>\n",
       "      <td>100.250000</td>\n",
       "      <td>97.239998</td>\n",
       "      <td>98.040001</td>\n",
       "      <td>98.129997</td>\n",
       "      <td>98.709999</td>\n",
       "      <td>98.699997</td>\n",
       "      <td>100.610001</td>\n",
       "      <td>97.709999</td>\n",
       "      <td>98.949997</td>\n",
       "      <td>100.040001</td>\n",
       "      <td>96.199997</td>\n",
       "      <td>94.879997</td>\n",
       "      <td>92.430000</td>\n",
       "    </tr>\n",
       "    <tr>\n",
       "      <th>2023-04-03</th>\n",
       "      <td>102.410004</td>\n",
       "      <td>103.290001</td>\n",
       "      <td>102.000000</td>\n",
       "      <td>100.250000</td>\n",
       "      <td>97.239998</td>\n",
       "      <td>98.040001</td>\n",
       "      <td>98.129997</td>\n",
       "      <td>98.709999</td>\n",
       "      <td>98.699997</td>\n",
       "      <td>100.610001</td>\n",
       "      <td>97.709999</td>\n",
       "      <td>98.949997</td>\n",
       "      <td>100.040001</td>\n",
       "      <td>96.199997</td>\n",
       "      <td>94.879997</td>\n",
       "    </tr>\n",
       "    <tr>\n",
       "      <th>2023-04-04</th>\n",
       "      <td>103.949997</td>\n",
       "      <td>102.410004</td>\n",
       "      <td>103.290001</td>\n",
       "      <td>102.000000</td>\n",
       "      <td>100.250000</td>\n",
       "      <td>97.239998</td>\n",
       "      <td>98.040001</td>\n",
       "      <td>98.129997</td>\n",
       "      <td>98.709999</td>\n",
       "      <td>98.699997</td>\n",
       "      <td>100.610001</td>\n",
       "      <td>97.709999</td>\n",
       "      <td>98.949997</td>\n",
       "      <td>100.040001</td>\n",
       "      <td>96.199997</td>\n",
       "    </tr>\n",
       "    <tr>\n",
       "      <th>2023-04-05</th>\n",
       "      <td>101.099998</td>\n",
       "      <td>103.949997</td>\n",
       "      <td>102.410004</td>\n",
       "      <td>103.290001</td>\n",
       "      <td>102.000000</td>\n",
       "      <td>100.250000</td>\n",
       "      <td>97.239998</td>\n",
       "      <td>98.040001</td>\n",
       "      <td>98.129997</td>\n",
       "      <td>98.709999</td>\n",
       "      <td>98.699997</td>\n",
       "      <td>100.610001</td>\n",
       "      <td>97.709999</td>\n",
       "      <td>98.949997</td>\n",
       "      <td>100.040001</td>\n",
       "    </tr>\n",
       "  </tbody>\n",
       "</table>\n",
       "<p>6502 rows × 15 columns</p>\n",
       "</div>"
      ],
      "text/plain": [
       "                 Close  Close(t-1)  Close(t-2)  Close(t-3)  Close(t-4)  \\\n",
       "Date                                                                     \n",
       "1997-06-05    0.077083    0.070833    0.073958    0.075521    0.075000   \n",
       "1997-06-06    0.082813    0.077083    0.070833    0.073958    0.075521   \n",
       "1997-06-09    0.084375    0.082813    0.077083    0.070833    0.073958   \n",
       "1997-06-10    0.079167    0.084375    0.082813    0.077083    0.070833   \n",
       "1997-06-11    0.077083    0.079167    0.084375    0.082813    0.077083   \n",
       "...                ...         ...         ...         ...         ...   \n",
       "2023-03-30  102.000000  100.250000   97.239998   98.040001   98.129997   \n",
       "2023-03-31  103.290001  102.000000  100.250000   97.239998   98.040001   \n",
       "2023-04-03  102.410004  103.290001  102.000000  100.250000   97.239998   \n",
       "2023-04-04  103.949997  102.410004  103.290001  102.000000  100.250000   \n",
       "2023-04-05  101.099998  103.949997  102.410004  103.290001  102.000000   \n",
       "\n",
       "            Close(t-5)  Close(t-6)  Close(t-7)  Close(t-8)  Close(t-9)  \\\n",
       "Date                                                                     \n",
       "1997-06-05    0.075260    0.076563    0.079167    0.075000    0.069792   \n",
       "1997-06-06    0.075000    0.075260    0.076563    0.079167    0.075000   \n",
       "1997-06-09    0.075521    0.075000    0.075260    0.076563    0.079167   \n",
       "1997-06-10    0.073958    0.075521    0.075000    0.075260    0.076563   \n",
       "1997-06-11    0.070833    0.073958    0.075521    0.075000    0.075260   \n",
       "...                ...         ...         ...         ...         ...   \n",
       "2023-03-30   98.709999   98.699997  100.610001   97.709999   98.949997   \n",
       "2023-03-31   98.129997   98.709999   98.699997  100.610001   97.709999   \n",
       "2023-04-03   98.040001   98.129997   98.709999   98.699997  100.610001   \n",
       "2023-04-04   97.239998   98.040001   98.129997   98.709999   98.699997   \n",
       "2023-04-05  100.250000   97.239998   98.040001   98.129997   98.709999   \n",
       "\n",
       "            Close(t-10)  Close(t-11)  Close(t-12)  Close(t-13)  Close(t-14)  \n",
       "Date                                                                         \n",
       "1997-06-05     0.071354     0.081771     0.085417     0.086458     0.097917  \n",
       "1997-06-06     0.069792     0.071354     0.081771     0.085417     0.086458  \n",
       "1997-06-09     0.075000     0.069792     0.071354     0.081771     0.085417  \n",
       "1997-06-10     0.079167     0.075000     0.069792     0.071354     0.081771  \n",
       "1997-06-11     0.076563     0.079167     0.075000     0.069792     0.071354  \n",
       "...                 ...          ...          ...          ...          ...  \n",
       "2023-03-30   100.040001    96.199997    94.879997    92.430000    90.730003  \n",
       "2023-03-31    98.949997   100.040001    96.199997    94.879997    92.430000  \n",
       "2023-04-03    97.709999    98.949997   100.040001    96.199997    94.879997  \n",
       "2023-04-04   100.610001    97.709999    98.949997   100.040001    96.199997  \n",
       "2023-04-05    98.699997   100.610001    97.709999    98.949997   100.040001  \n",
       "\n",
       "[6502 rows x 15 columns]"
      ]
     },
     "execution_count": 407,
     "metadata": {},
     "output_type": "execute_result"
    }
   ],
   "source": [
    "from copy import deepcopy as dc\n",
    "\n",
    "# Take the dataframes and the number (look back window)\n",
    "def prepare_dataframe_for_lstm(df, n_steps):\n",
    "    # Deep copy of the dataframe\n",
    "    df = dc(df)\n",
    "    # Set the index to Date\n",
    "    df.set_index('Date', inplace=True)\n",
    "\n",
    "    for i in range(1, n_steps+1):\n",
    "        df[f'Close(t-{i})'] = df['Close'].shift(i)\n",
    "\n",
    "    df.dropna(inplace=True)\n",
    "\n",
    "    return df\n",
    "\n",
    "lookback = 14\n",
    "shifted_df = prepare_dataframe_for_lstm(data, lookback)\n",
    "shifted_df"
   ]
  },
  {
   "cell_type": "code",
   "execution_count": 408,
   "id": "aea1c011-35c1-4a30-ab76-39834183b4ac",
   "metadata": {},
   "outputs": [
    {
     "data": {
      "text/plain": [
       "array([[7.70830000e-02, 7.08330000e-02, 7.39580000e-02, ...,\n",
       "        8.54170000e-02, 8.64580000e-02, 9.79170000e-02],\n",
       "       [8.28130000e-02, 7.70830000e-02, 7.08330000e-02, ...,\n",
       "        8.17710000e-02, 8.54170000e-02, 8.64580000e-02],\n",
       "       [8.43750000e-02, 8.28130000e-02, 7.70830000e-02, ...,\n",
       "        7.13540000e-02, 8.17710000e-02, 8.54170000e-02],\n",
       "       ...,\n",
       "       [1.02410004e+02, 1.03290001e+02, 1.02000000e+02, ...,\n",
       "        1.00040001e+02, 9.61999970e+01, 9.48799970e+01],\n",
       "       [1.03949997e+02, 1.02410004e+02, 1.03290001e+02, ...,\n",
       "        9.89499970e+01, 1.00040001e+02, 9.61999970e+01],\n",
       "       [1.01099998e+02, 1.03949997e+02, 1.02410004e+02, ...,\n",
       "        9.77099990e+01, 9.89499970e+01, 1.00040001e+02]])"
      ]
     },
     "execution_count": 408,
     "metadata": {},
     "output_type": "execute_result"
    }
   ],
   "source": [
    "# Convert the data to numpy format\n",
    "shifted_df_as_np = shifted_df.to_numpy()\n",
    "\n",
    "shifted_df_as_np"
   ]
  },
  {
   "cell_type": "code",
   "execution_count": 409,
   "id": "dc89b9a1-1cb9-4da3-b56d-1405dfa38d3a",
   "metadata": {},
   "outputs": [
    {
     "data": {
      "text/plain": [
       "(6502, 15)"
      ]
     },
     "execution_count": 409,
     "metadata": {},
     "output_type": "execute_result"
    }
   ],
   "source": [
    "# Count the number of rows and column\n",
    "shifted_df_as_np.shape"
   ]
  },
  {
   "cell_type": "code",
   "execution_count": 410,
   "id": "f360acb7-3e28-4b40-b4cd-b8d96534911f",
   "metadata": {},
   "outputs": [],
   "source": [
    "class CustomMinMaxScaler:\n",
    "    def __init__(self, min_val=-1, max_val=1, manual_max=None, increase_ratio=0.5):\n",
    "        \"\"\"\n",
    "        Arguments:\n",
    "        - min_val: La nouvelle valeur minimale pour la normalisation (par défaut -1).\n",
    "        - max_val: La nouvelle valeur maximale pour la normalisation (par défaut 1).\n",
    "        - manual_max: Si fourni, remplace le max calculé automatiquement du tableau.\n",
    "        - increase_ratio: Si manual_max est None, augmente le max d'origine par ce ratio.\n",
    "        \"\"\"\n",
    "        self.min_val = min_val\n",
    "        self.max_val = max_val\n",
    "        self.manual_max = manual_max\n",
    "        self.increase_ratio = increase_ratio\n",
    "        self.data_min_ = None\n",
    "        self.data_max_ = None\n",
    "\n",
    "    def fit(self, data):\n",
    "        \"\"\"Calcule les valeurs min et max nécessaires pour le scaling.\"\"\"\n",
    "        self.data_min_ = data.min()\n",
    "        self.data_max_ = data.max()\n",
    "\n",
    "        # Définir le max à utiliser\n",
    "        if self.manual_max is not None:\n",
    "            self.scaled_max_ = self.manual_max\n",
    "        else:\n",
    "            self.scaled_max_ = self.data_max_ * (1 + self.increase_ratio)\n",
    "    \n",
    "    def transform(self, data):\n",
    "        \"\"\"Applique la transformation min-max aux données.\"\"\"\n",
    "        if self.data_min_ is None or self.data_max_ is None:\n",
    "            raise ValueError(\"The scaler has not been fitted yet.\")\n",
    "        \n",
    "        # Transformation à la plage [min_val, max_val]\n",
    "        scaled = (data - self.data_min_) / (self.scaled_max_ - self.data_min_)\n",
    "        return scaled * (self.max_val - self.min_val) + self.min_val\n",
    "\n",
    "    def inverse_transform(self, scaled_data):\n",
    "        \"\"\"Inverse la transformation pour revenir à l'échelle d'origine.\"\"\"\n",
    "        if self.data_min_ is None or self.scaled_max_ is None:\n",
    "            raise ValueError(\"The scaler has not been fitted yet.\")\n",
    "        \n",
    "        # Inverser la transformation\n",
    "        original = (scaled_data - self.min_val) / (self.max_val - self.min_val)\n",
    "        return original * (self.scaled_max_ - self.data_min_) + self.data_min_\n",
    "    \n",
    "    def fit_transform(self, data):\n",
    "        \"\"\"Combine fit et transform.\"\"\"\n",
    "        self.fit(data)\n",
    "        return self.transform(data)"
   ]
  },
  {
   "cell_type": "code",
   "execution_count": 411,
   "id": "88286ffd-19a4-41cb-bad9-a4e11e7891d6",
   "metadata": {},
   "outputs": [
    {
     "data": {
      "text/plain": [
       "array([[-0.99994788, -0.99999256, -0.99997022, ..., -0.99988831,\n",
       "        -0.99988087, -0.99979895],\n",
       "       [-0.99990692, -0.99994788, -0.99999256, ..., -0.99991437,\n",
       "        -0.99988831, -0.99988087],\n",
       "       [-0.99989576, -0.99990692, -0.99994788, ..., -0.99998883,\n",
       "        -0.99991437, -0.99988831],\n",
       "       ...,\n",
       "       [-0.26843924, -0.26214874, -0.27137008, ..., -0.28538078,\n",
       "        -0.31283037, -0.32226615],\n",
       "       [-0.25743087, -0.26843924, -0.26214874, ..., -0.29317248,\n",
       "        -0.28538078, -0.31283037],\n",
       "       [-0.27780358, -0.25743087, -0.26843924, ..., -0.30203639,\n",
       "        -0.29317248, -0.28538078]])"
      ]
     },
     "execution_count": 411,
     "metadata": {},
     "output_type": "execute_result"
    }
   ],
   "source": [
    "# Scaler on all the data\n",
    "from sklearn.preprocessing import MinMaxScaler\n",
    "\n",
    "scaler = CustomMinMaxScaler(min_val=-1, max_val=1, increase_ratio=0.5)\n",
    "shifted_df_as_np = scaler.fit_transform(shifted_df_as_np)\n",
    "# Transform the numpy value from above to -1, 1\n",
    "# scaler = MinMaxScaler(feature_range=(-1, 1))\n",
    "# shifted_df_as_np = scaler.fit_transform(shifted_df_as_np)\n",
    "# tableau_scaled\n",
    "shifted_df_as_np"
   ]
  },
  {
   "cell_type": "code",
   "execution_count": 412,
   "id": "096c7d92-7c4f-45c1-853c-999b981a623b",
   "metadata": {},
   "outputs": [
    {
     "data": {
      "text/plain": [
       "((6502, 14), (6502,))"
      ]
     },
     "execution_count": 412,
     "metadata": {},
     "output_type": "execute_result"
    }
   ],
   "source": [
    "# X = All the rows above without the first column\n",
    "X = shifted_df_as_np[:, 1:]\n",
    "# Predicter, all the rows but just the first column\n",
    "y = shifted_df_as_np[:, 0]\n",
    "\n",
    "X.shape, y.shape"
   ]
  },
  {
   "cell_type": "code",
   "execution_count": 413,
   "id": "0bf630ed-7eb8-434f-b375-6121aa9b3728",
   "metadata": {},
   "outputs": [
    {
     "data": {
      "text/plain": [
       "array([[-0.99979895, -0.99988087, -0.99988831, ..., -0.99995905,\n",
       "        -0.99997022, -0.99999256],\n",
       "       [-0.99988087, -0.99988831, -0.99991437, ..., -0.99997022,\n",
       "        -0.99999256, -0.99994788],\n",
       "       [-0.99988831, -0.99991437, -0.99998883, ..., -0.99999256,\n",
       "        -0.99994788, -0.99990692],\n",
       "       ...,\n",
       "       [-0.32226615, -0.31283037, -0.28538078, ..., -0.28387964,\n",
       "        -0.27137008, -0.26214874],\n",
       "       [-0.31283037, -0.28538078, -0.29317248, ..., -0.27137008,\n",
       "        -0.26214874, -0.26843924],\n",
       "       [-0.28538078, -0.29317248, -0.30203639, ..., -0.26214874,\n",
       "        -0.26843924, -0.25743087]])"
      ]
     },
     "execution_count": 413,
     "metadata": {},
     "output_type": "execute_result"
    }
   ],
   "source": [
    "# Make a deep copy but flipping it, to have the oldest value first\n",
    "X = dc(np.flip(X, axis=1))\n",
    "X"
   ]
  },
  {
   "cell_type": "code",
   "execution_count": 414,
   "id": "c63518bb-fc5e-4b58-bebd-de50a7e209bf",
   "metadata": {},
   "outputs": [
    {
     "data": {
      "text/plain": [
       "6176"
      ]
     },
     "execution_count": 414,
     "metadata": {},
     "output_type": "execute_result"
    }
   ],
   "source": [
    "# Splitting to train and test 95% as train and 5% as test\n",
    "split_index = int(len(X) * 0.95)\n",
    "\n",
    "split_index"
   ]
  },
  {
   "cell_type": "code",
   "execution_count": 415,
   "id": "ffd1b5e7-59f4-44ed-bbb3-7ff5b99128ad",
   "metadata": {},
   "outputs": [
    {
     "data": {
      "text/plain": [
       "((6176, 14), (326, 14), (6176,), (326,))"
      ]
     },
     "execution_count": 415,
     "metadata": {},
     "output_type": "execute_result"
    }
   ],
   "source": [
    "# Up util the split index\n",
    "X_train = X[:split_index]\n",
    "# Split index onward\n",
    "X_test = X[split_index:]\n",
    "\n",
    "y_train = y[:split_index]\n",
    "y_test = y[split_index:]\n",
    "\n",
    "X_train.shape, X_test.shape, y_train.shape, y_test.shape"
   ]
  },
  {
   "cell_type": "code",
   "execution_count": 416,
   "id": "7b80e944-91bd-4b5d-a601-667a3df74fc2",
   "metadata": {},
   "outputs": [
    {
     "data": {
      "text/plain": [
       "((6176, 14, 1), (326, 14, 1), (6176, 1), (326, 1))"
      ]
     },
     "execution_count": 416,
     "metadata": {},
     "output_type": "execute_result"
    }
   ],
   "source": [
    "# Requirement for PyTorch LSTM to have an extra dimension at the end\n",
    "X_train = X_train.reshape((-1, lookback, 1))\n",
    "X_test = X_test.reshape((-1, lookback, 1))\n",
    "\n",
    "y_train = y_train.reshape((-1, 1))\n",
    "y_test = y_test.reshape((-1, 1))\n",
    "\n",
    "X_train.shape, X_test.shape, y_train.shape, y_test.shape"
   ]
  },
  {
   "cell_type": "code",
   "execution_count": 417,
   "id": "5be52a70-baa2-4f76-90b1-0275c20660c9",
   "metadata": {},
   "outputs": [
    {
     "data": {
      "text/plain": [
       "(torch.Size([6176, 14, 1]),\n",
       " torch.Size([326, 14, 1]),\n",
       " torch.Size([6176, 1]),\n",
       " torch.Size([326, 1]))"
      ]
     },
     "execution_count": 417,
     "metadata": {},
     "output_type": "execute_result"
    }
   ],
   "source": [
    "# Wrap in pytorch tensor and make sure they are float\n",
    "X_train = torch.tensor(X_train).float()\n",
    "y_train = torch.tensor(y_train).float()\n",
    "X_test = torch.tensor(X_test).float()\n",
    "y_test = torch.tensor(y_test).float()\n",
    "\n",
    "X_train.shape, X_test.shape, y_train.shape, y_test.shape"
   ]
  },
  {
   "cell_type": "code",
   "execution_count": 418,
   "id": "7fa61b96-a095-46d8-a1e0-a03b466b06c0",
   "metadata": {},
   "outputs": [],
   "source": [
    "# We use dataset instead of tensor\n",
    "from torch.utils.data import Dataset\n",
    "\n",
    "# Custom class to transform the tensor to a dataset\n",
    "class TimeSeriesDataset(Dataset):\n",
    "    def __init__(self, X, y):\n",
    "        self.X = X\n",
    "        self.y = y\n",
    "\n",
    "    def __len__(self):\n",
    "        return len(self.X)\n",
    "\n",
    "    def __getitem__(self, i):\n",
    "        return self.X[i], self.y[i]\n",
    "\n",
    "train_dataset = TimeSeriesDataset(X_train, y_train)\n",
    "test_dataset = TimeSeriesDataset(X_test, y_test)"
   ]
  },
  {
   "cell_type": "code",
   "execution_count": 419,
   "id": "fd4d95fd-2605-4fff-865f-7b9f3e5759c4",
   "metadata": {},
   "outputs": [],
   "source": [
    "# Wrap the dataset in dataloader to get the batches\n",
    "from torch.utils.data import DataLoader\n",
    "\n",
    "# Batch size of 16\n",
    "batch_size = 16\n",
    "\n",
    "# Train dataloader with our train_dataset, we shuffle everytime\n",
    "train_loader = DataLoader(train_dataset, batch_size=batch_size, shuffle=True)\n",
    "# The same but without shuffling\n",
    "test_loader = DataLoader(test_dataset, batch_size=batch_size, shuffle=False)"
   ]
  },
  {
   "cell_type": "code",
   "execution_count": 420,
   "id": "4d2457be-3f99-4d91-a772-6923950ea054",
   "metadata": {},
   "outputs": [
    {
     "name": "stdout",
     "output_type": "stream",
     "text": [
      "torch.Size([16, 14, 1]) torch.Size([16, 1])\n"
     ]
    }
   ],
   "source": [
    "# Looping over our train_loader\n",
    "for _, batch in enumerate(train_loader):\n",
    "    # Get the x_batch and the y_batch to check the size\n",
    "    x_batch, y_batch = batch[0].to(device), batch[1].to(device)\n",
    "    print(x_batch.shape, y_batch.shape)\n",
    "    break"
   ]
  },
  {
   "cell_type": "code",
   "execution_count": 421,
   "id": "b70064b6-24bd-4597-9967-587cd06bc9c9",
   "metadata": {},
   "outputs": [
    {
     "data": {
      "text/plain": [
       "LSTM(\n",
       "  (lstm): LSTM(1, 4, batch_first=True)\n",
       "  (fc): Linear(in_features=4, out_features=1, bias=True)\n",
       ")"
      ]
     },
     "execution_count": 421,
     "metadata": {},
     "output_type": "execute_result"
    }
   ],
   "source": [
    "class LSTM(nn.Module):\n",
    "    # Input size: number of features 1, hidden_size: However dimension we want in the middle could increase the overfitting,\n",
    "    # num_stacked_layers: Stacked LSTM because they produce a sequence\n",
    "    def __init__(self, input_size=1, hidden_size=64, num_stacked_layers=2, dropout_prob=0.2):\n",
    "        super().__init__()\n",
    "        self.hidden_size = hidden_size\n",
    "        self.num_stacked_layers = num_stacked_layers\n",
    "\n",
    "        self.lstm = nn.LSTM(input_size, hidden_size, num_stacked_layers,\n",
    "                            batch_first=True)\n",
    "        # After LSTM you want a fully connected layer map of our hidden size to 1 because at the end you just need the final closing value\n",
    "        self.fc = nn.Linear(hidden_size, 1)\n",
    "\n",
    "    def forward(self, x):\n",
    "        # Batch size from the input, dynamiccaly\n",
    "        batch_size = x.size(0)\n",
    "        # Gates, initalize the LSTM with default h0 and c0\n",
    "        h0 = torch.zeros(self.num_stacked_layers, batch_size, self.hidden_size).to(x.device)\n",
    "        c0 = torch.zeros(self.num_stacked_layers, batch_size, self.hidden_size).to(x.device)\n",
    "        # When you want to use the LSTM you pass those in the tuple, out = output, _ = updated tuple\n",
    "        out, _ = self.lstm(x, (h0, c0))\n",
    "        # The output has to pass in the fc layer\n",
    "        out = self.fc(out[:, -1, :])\n",
    "        return out\n",
    "\n",
    "model = LSTM(1, 4, 1)\n",
    "model.to(device)\n",
    "model"
   ]
  },
  {
   "cell_type": "code",
   "execution_count": 422,
   "id": "c06832eb-d816-45fd-9cbc-00977fb3c7e0",
   "metadata": {},
   "outputs": [],
   "source": [
    "def train_one_epoch():\n",
    "    # Model to training mode\n",
    "    model.train(True)\n",
    "    print(f'Epoch: {epoch + 1}')\n",
    "    # Start to accumulate the running_loss\n",
    "    running_loss = 0.0\n",
    "\n",
    "    # Loop over the train loader and get the batch_index and the batch\n",
    "    for batch_index, batch in enumerate(train_loader):\n",
    "        # Get x_batch and y_batch from the batch and put it on the device we're using\n",
    "        x_batch, y_batch = batch[0].to(device), batch[1].to(device)\n",
    "\n",
    "        # Getting the output from the model\n",
    "        output = model(x_batch)\n",
    "        # 'Tensor with one value' Getting the loss with the loss_function, comparing the output to the truth from the y_batch\n",
    "        loss = loss_function(output, y_batch)\n",
    "        # Incrementing the loss\n",
    "        running_loss += loss.item()\n",
    "\n",
    "        # Zero out the gradients\n",
    "        optimizer.zero_grad()\n",
    "\n",
    "        # Backward pass through the loss to calculate the gradient\n",
    "        loss.backward()\n",
    "        # Step in the direction of the gradient to upgrade our model\n",
    "        optimizer.step()\n",
    "\n",
    "        global_step = epoch * len(train_loader) + batch_index\n",
    "        writer.add_scalar(\"Loss/Train\", loss.item(), global_step)\n",
    "\n",
    "        if batch_index % 100 == 99:  # print every 100 batches\n",
    "            # Average loss across this 100 batches\n",
    "            avg_loss_across_batches = running_loss / 100\n",
    "            # writer.add_scalar('Train/Loss', avg_loss_across_batches, epoch * len(train_loader) + batch_index)\n",
    "            print('Batch {0}, Loss: {1:.6f}'.format(batch_index+1,\n",
    "                                                    avg_loss_across_batches))\n",
    "            running_loss = 0.0\n",
    "    print()"
   ]
  },
  {
   "cell_type": "code",
   "execution_count": 423,
   "id": "2ff28e6f-db3f-489b-9eb0-fcf33e69a1e5",
   "metadata": {},
   "outputs": [],
   "source": [
    "def validate_one_epoch():\n",
    "    # Model to valuation mode\n",
    "    model.train(False)\n",
    "    running_loss = 0.0\n",
    "\n",
    "    # Loop over the train loader and get the batch_index and the batch\n",
    "    for batch_index, batch in enumerate(test_loader):\n",
    "        # Get x_batch and y_batch from the batch and put it on the device we're using\n",
    "        x_batch, y_batch = batch[0].to(device), batch[1].to(device)\n",
    "\n",
    "        # No model update so we don't need to calculate the gradient\n",
    "        with torch.no_grad():\n",
    "            output = model(x_batch)\n",
    "            loss = loss_function(output, y_batch)\n",
    "            running_loss += loss.item()\n",
    "\n",
    "    avg_loss_across_batches = running_loss / len(test_loader)\n",
    "    writer.add_scalar(\"Loss/Validation\", avg_loss_across_batches, epoch)\n",
    "\n",
    "    print('Val Loss: {0:.3f}'.format(avg_loss_across_batches))\n",
    "    print('***************************************************')\n",
    "    print()"
   ]
  },
  {
   "cell_type": "code",
   "execution_count": 424,
   "id": "27b65782-701b-4c68-8873-6ffcfca1fc7a",
   "metadata": {},
   "outputs": [],
   "source": [
    "def log_graph_to_tensorboard():\n",
    "    dummy_input = torch.zeros((1, lookback, 1)).to(device)\n",
    "    writer.add_graph(model, dummy_input)\n",
    "log_graph_to_tensorboard()"
   ]
  },
  {
   "cell_type": "code",
   "execution_count": 425,
   "id": "8ec03b2e-cf2c-42e1-bc69-aba0f4b902ca",
   "metadata": {},
   "outputs": [
    {
     "name": "stdout",
     "output_type": "stream",
     "text": [
      "Epoch: 1\n",
      "Batch 100, Loss: 0.196957\n",
      "Batch 200, Loss: 0.058974\n",
      "Batch 300, Loss: 0.013239\n",
      "\n",
      "Val Loss: 0.022\n",
      "***************************************************\n",
      "\n",
      "Epoch: 2\n",
      "Batch 100, Loss: 0.006612\n",
      "Batch 200, Loss: 0.003897\n",
      "Batch 300, Loss: 0.002574\n",
      "\n",
      "Val Loss: 0.007\n",
      "***************************************************\n",
      "\n",
      "Epoch: 3\n",
      "Batch 100, Loss: 0.001464\n",
      "Batch 200, Loss: 0.001205\n",
      "Batch 300, Loss: 0.000992\n",
      "\n",
      "Val Loss: 0.005\n",
      "***************************************************\n",
      "\n",
      "Epoch: 4\n",
      "Batch 100, Loss: 0.000683\n",
      "Batch 200, Loss: 0.000465\n",
      "Batch 300, Loss: 0.000419\n",
      "\n",
      "Val Loss: 0.004\n",
      "***************************************************\n",
      "\n",
      "Epoch: 5\n",
      "Batch 100, Loss: 0.000201\n",
      "Batch 200, Loss: 0.000191\n",
      "Batch 300, Loss: 0.000167\n",
      "\n",
      "Val Loss: 0.004\n",
      "***************************************************\n",
      "\n",
      "Epoch: 6\n",
      "Batch 100, Loss: 0.000164\n",
      "Batch 200, Loss: 0.000182\n",
      "Batch 300, Loss: 0.000161\n",
      "\n",
      "Val Loss: 0.003\n",
      "***************************************************\n",
      "\n",
      "Epoch: 7\n",
      "Batch 100, Loss: 0.000155\n",
      "Batch 200, Loss: 0.000192\n",
      "Batch 300, Loss: 0.000173\n",
      "\n",
      "Val Loss: 0.003\n",
      "***************************************************\n",
      "\n",
      "Epoch: 8\n",
      "Batch 100, Loss: 0.000161\n",
      "Batch 200, Loss: 0.000145\n",
      "Batch 300, Loss: 0.000183\n",
      "\n",
      "Val Loss: 0.004\n",
      "***************************************************\n",
      "\n",
      "Epoch: 9\n",
      "Batch 100, Loss: 0.000168\n",
      "Batch 200, Loss: 0.000169\n",
      "Batch 300, Loss: 0.000151\n",
      "\n",
      "Val Loss: 0.003\n",
      "***************************************************\n",
      "\n",
      "Epoch: 10\n",
      "Batch 100, Loss: 0.000148\n",
      "Batch 200, Loss: 0.000169\n",
      "Batch 300, Loss: 0.000154\n",
      "\n",
      "Val Loss: 0.003\n",
      "***************************************************\n",
      "\n"
     ]
    }
   ],
   "source": [
    "learning_rate = 0.001\n",
    "num_epochs = 10\n",
    "# Regression value because we calculate a continuous value to minimize the mean squared error\n",
    "loss_function = nn.MSELoss()\n",
    "optimizer = torch.optim.Adam(model.parameters(), lr=learning_rate)\n",
    "# scheduler = torch.optim.lr_scheduler.StepLR(optimizer, step_size=2, gamma=0.5)\n",
    "sample_input = torch.randn(1, lookback, 1).to(device)\n",
    "writer.add_graph(model, sample_input)\n",
    "\n",
    "for epoch in range(num_epochs):\n",
    "    train_one_epoch()\n",
    "    validate_one_epoch()\n",
    "    # scheduler.step()\n",
    "model_save_path = 'lstm_model.pth'\n",
    "torch.save(model.state_dict(), model_save_path)"
   ]
  },
  {
   "cell_type": "code",
   "execution_count": 426,
   "id": "9ff2e244-79c2-424c-9612-ab25f451ceaa",
   "metadata": {},
   "outputs": [
    {
     "data": {
      "image/png": "[encoded data removed]",
      "text/plain": [
       "<Figure size 640x480 with 1 Axes>"
      ]
     },
     "metadata": {},
     "output_type": "display_data"
    }
   ],
   "source": [
    "# No gradient for the prediction\n",
    "with torch.no_grad():\n",
    "    # Give the model the first 95% of the train data then give it to the cpu because numpy only use the cpu\n",
    "    predicted = model(X_train.to(device)).to('cpu').numpy()\n",
    "\n",
    "\n",
    "# Plot the y_train, real closing data\n",
    "plt.plot(y_train, label='Actual Close')\n",
    "# Plot the predicted closing value\n",
    "plt.plot(predicted, label='Predicted Close')\n",
    "plt.xlabel('Day')\n",
    "plt.ylabel('Close')\n",
    "plt.legend()\n",
    "plt.show()"
   ]
  },
  {
   "cell_type": "code",
   "execution_count": 427,
   "id": "d9183845-ab19-449d-951a-258e63171f3c",
   "metadata": {},
   "outputs": [
    {
     "data": {
      "text/plain": [
       "array([  0.43236504,   0.43227332,   0.4329654 , ..., 169.8655927 ,\n",
       "       169.45842241, 169.41051488])"
      ]
     },
     "execution_count": 427,
     "metadata": {},
     "output_type": "execute_result"
    }
   ],
   "source": [
    "# Flatten to making sure it's one axis\n",
    "train_predictions = predicted.flatten()\n",
    "\n",
    "dummies = np.zeros((X_train.shape[0], lookback+1))\n",
    "dummies[:, 0] = train_predictions\n",
    "# Inverse transform to transform the -1 1 to real dollar\n",
    "dummies = scaler.inverse_transform(dummies)\n",
    "\n",
    "train_predictions = dc(dummies[:, 0])\n",
    "train_predictions"
   ]
  },
  {
   "cell_type": "code",
   "execution_count": 428,
   "id": "7b947a3a-4f2e-479e-bb16-22e3202ad1c0",
   "metadata": {},
   "outputs": [
    {
     "name": "stderr",
     "output_type": "stream",
     "text": [
      "/var/folders/0_/gschhs596250ygzy70q0br4r0000gn/T/ipykernel_46547/61638427.py:3: DeprecationWarning: __array__ implementation doesn't accept a copy keyword, so passing copy=False failed. __array__ must implement 'dtype' and 'copy' keyword arguments.\n",
      "  dummies[:, 0] = y_train.flatten()\n"
     ]
    },
    {
     "data": {
      "text/plain": [
       "array([7.70796490e-02, 8.28163795e-02, 8.43756362e-02, ...,\n",
       "       1.69091507e+02, 1.73315002e+02, 1.68871002e+02])"
      ]
     },
     "execution_count": 428,
     "metadata": {},
     "output_type": "execute_result"
    }
   ],
   "source": [
    "# Same as above for the truth\n",
    "dummies = np.zeros((X_train.shape[0], lookback+1))\n",
    "dummies[:, 0] = y_train.flatten()\n",
    "dummies = scaler.inverse_transform(dummies)\n",
    "\n",
    "new_y_train = dc(dummies[:, 0])\n",
    "new_y_train"
   ]
  },
  {
   "cell_type": "code",
   "execution_count": 429,
   "id": "264fb267-66f2-45df-b865-c98d881f3de6",
   "metadata": {},
   "outputs": [
    {
     "data": {
      "image/png": "[encoded data removed]",
      "text/plain": [
       "<Figure size 640x480 with 1 Axes>"
      ]
     },
     "metadata": {},
     "output_type": "display_data"
    }
   ],
   "source": [
    "plt.plot(new_y_train, label='Actual Close')\n",
    "plt.plot(train_predictions, label='Predicted Close')\n",
    "plt.xlabel('Day')\n",
    "plt.ylabel('Close')\n",
    "plt.legend()\n",
    "plt.show()"
   ]
  },
  {
   "cell_type": "code",
   "execution_count": 430,
   "id": "fa93af0a-e11f-4c4b-8f72-6f927bc06228",
   "metadata": {},
   "outputs": [
    {
     "data": {
      "text/plain": [
       "array([169.06707817, 168.83614141, 168.38760913, 168.27272443,\n",
       "       168.24546245, 168.28870472, 168.22772278, 168.22276568,\n",
       "       168.09771662, 167.94541393, 167.64057091, 167.67471196,\n",
       "       167.4883516 , 167.02002009, 166.48891808, 165.90340468,\n",
       "       165.29626598, 165.07791167, 164.92326592, 164.47784382,\n",
       "       164.15860477, 163.55689845, 162.755157  , 161.53057766,\n",
       "       159.42244592, 157.4879962 , 155.18886385, 152.95159313,\n",
       "       151.00730425, 149.84731316, 149.67213859, 149.90835764,\n",
       "       150.24027086, 149.26976281, 150.46857689, 151.77695586,\n",
       "       153.50444969, 155.12072767, 156.42034728, 156.84990166,\n",
       "       157.30469181, 157.74537361, 158.25160256, 158.29170964,\n",
       "       157.99467541, 157.37471661, 156.15269712, 155.80632533,\n",
       "       155.60440159, 155.52609272, 155.22666957, 155.06093392,\n",
       "       154.48424241, 153.7313549 , 151.99909575, 150.05902186,\n",
       "       148.55999249, 148.22562365, 147.99913536, 147.50058179,\n",
       "       147.8205546 , 148.81528951, 150.32414136, 152.26085492,\n",
       "       154.1303245 , 156.13901401, 157.79273082, 159.21832504,\n",
       "       160.56740728, 162.07820612, 163.36418849, 164.10272585,\n",
       "       164.36845821, 164.56560829, 165.04451689, 165.05609458,\n",
       "       164.52588477, 163.82212218, 162.79912887, 161.45680063,\n",
       "       160.15722271, 159.45787106, 158.53158503, 157.81394755,\n",
       "       157.76498939, 157.45240845, 156.63534543, 155.37243923,\n",
       "       154.25068327, 152.48730986, 150.70547135, 149.80939904,\n",
       "       146.6007114 , 143.45216771, 140.38884115, 137.78714629,\n",
       "       134.21436388, 130.67678564, 126.45860436, 122.74383994,\n",
       "       119.02332003, 116.16832518, 114.85529345, 113.65014853,\n",
       "       113.5955683 , 112.15031869, 111.21543381, 110.41562268,\n",
       "       109.72908695, 108.51637088, 108.07168254, 108.48029535,\n",
       "       109.67859247, 111.6607371 , 113.74050621, 116.22553197,\n",
       "       117.80837765, 119.60015121, 120.75458068, 121.51615667,\n",
       "       121.26316727, 119.81231018, 117.31741816, 114.73940608,\n",
       "       113.282954  , 111.31123013, 110.09301288, 109.50421629,\n",
       "       109.15076531, 109.51495181, 110.65150611, 111.11801154,\n",
       "       110.55850521, 110.30229723, 109.59174104, 109.61188213,\n",
       "       110.38462515, 111.2623762 , 112.34897383, 113.23373944,\n",
       "       113.31564628, 112.85948657, 112.58549723, 112.30542721,\n",
       "       112.52243488, 112.81849354, 113.95543766, 115.73452662,\n",
       "       117.69466447, 119.04734885, 119.95294972, 119.62326907,\n",
       "       120.19640639, 120.8730154 , 123.57754824, 126.17379611,\n",
       "       128.36348865, 131.07979096, 133.86673301, 136.08495078,\n",
       "       137.73122568, 138.79434274, 140.23961528, 141.24094158,\n",
       "       142.46169783, 143.55625018, 144.60575501, 145.17286585,\n",
       "       145.46021101, 145.13628168, 144.11046588, 143.00604102,\n",
       "       141.91695858, 141.43019949, 140.20836344, 138.96484788,\n",
       "       137.58525173, 136.09662436, 134.868372  , 133.77974817,\n",
       "       132.63433445, 132.19509726, 131.94393186, 132.37452435,\n",
       "       133.39533302, 132.99307398, 132.79608649, 132.14715012,\n",
       "       131.18381714, 130.42316878, 129.3553677 , 127.8387279 ,\n",
       "       126.21587937, 124.17266315, 122.57332021, 121.02323769,\n",
       "       120.32490331, 119.25248283, 118.031318  , 117.59979371,\n",
       "       118.12218848, 118.6908544 , 119.20086893, 118.69508191,\n",
       "       118.0628867 , 117.22286425, 116.55986538, 115.94755486,\n",
       "       114.43209909, 114.28467012, 114.58047863, 114.75657458,\n",
       "       115.01931559, 115.92385749, 116.77096956, 117.68546319,\n",
       "       117.67175507, 116.8795401 , 114.77010342, 112.60786464,\n",
       "       109.59582679, 106.07354511, 102.56047305,  99.80562083,\n",
       "        97.43606345,  95.46836904,  93.19033669,  93.32250662,\n",
       "        94.21290891,  94.60545803,  95.14191322,  95.29470787,\n",
       "        95.07551139,  94.75145282,  94.19902985,  93.91941844,\n",
       "        93.8811833 ,  93.69935479,  93.66367532,  93.33781569,\n",
       "        93.88984676,  94.02198751,  93.86393975,  93.17710802,\n",
       "        92.07644789,  91.20361017,  90.83881081,  90.29821985,\n",
       "        90.17477174,  90.43251604,  90.46742422,  89.9283258 ,\n",
       "        89.37205889,  88.34753134,  87.52071672,  87.13998709,\n",
       "        86.26699928,  85.8971511 ,  85.17579892,  84.36789132,\n",
       "        84.1356538 ,  83.89424834,  84.04931517,  84.02174884,\n",
       "        83.64157371,  83.94618326,  84.40741056,  85.29893851,\n",
       "        87.0210208 ,  88.44185387,  90.22736539,  91.2942847 ,\n",
       "        92.11537094,  92.45918287,  93.38159161,  94.17073393,\n",
       "        94.6013973 ,  95.13504248,  95.96525495,  97.17419587,\n",
       "        97.85842606,  98.90399523, 100.08198449, 102.49967455,\n",
       "       102.80124897, 102.89654707, 102.8829265 , 102.45852101,\n",
       "       101.68994504, 100.88691116, 100.5586501 , 100.30313212,\n",
       "       100.36117482,  99.83582205,  99.25228482,  98.22911641,\n",
       "        97.57124767,  96.92512754,  96.0708258 ,  95.43794686,\n",
       "        94.99461349,  94.26375568,  93.67903442,  93.71497654,\n",
       "        93.50478123,  93.32428267,  93.23458789,  92.8762757 ,\n",
       "        92.30700526,  92.17861673,  92.50593139,  93.03066713,\n",
       "        94.23540556,  95.0391065 ,  95.50366494,  96.44950839,\n",
       "        96.85970547,  97.18596117,  97.34924954,  97.46447611,\n",
       "        97.39655255,  97.90905188,  98.66526636,  99.53623631,\n",
       "       100.09693084, 100.85018107])"
      ]
     },
     "execution_count": 430,
     "metadata": {},
     "output_type": "execute_result"
    }
   ],
   "source": [
    "# The same as above but for the predictions .detach() do the same as .no_grad()\n",
    "test_predictions = model(X_test.to(device)).detach().cpu().numpy().flatten()\n",
    "\n",
    "dummies = np.zeros((X_test.shape[0], lookback+1))\n",
    "dummies[:, 0] = test_predictions\n",
    "dummies = scaler.inverse_transform(dummies)\n",
    "\n",
    "test_predictions = dc(dummies[:, 0])\n",
    "test_predictions"
   ]
  },
  {
   "cell_type": "code",
   "execution_count": 431,
   "id": "f1b3efe9-0e16-42bb-8e51-581e446fdfbb",
   "metadata": {},
   "outputs": [
    {
     "name": "stderr",
     "output_type": "stream",
     "text": [
      "/var/folders/0_/gschhs596250ygzy70q0br4r0000gn/T/ipykernel_46547/1312012603.py:2: DeprecationWarning: __array__ implementation doesn't accept a copy keyword, so passing copy=False failed. __array__ must implement 'dtype' and 'copy' keyword arguments.\n",
      "  dummies[:, 0] = y_test.flatten()\n"
     ]
    },
    {
     "data": {
      "text/plain": [
       "array([170.01750141, 167.0789946 , 170.41700674, 171.03700306,\n",
       "       171.06849671, 169.66949533, 170.66099498, 169.20100331,\n",
       "       168.64450084, 166.71699481, 170.40449517, 167.52200278,\n",
       "       164.35699517, 163.25399824, 162.55400038, 161.48599292,\n",
       "       165.36200074, 165.20700062, 161.21400477, 162.13799986,\n",
       "       158.91749689, 156.29899625, 151.66749625, 142.64300494,\n",
       "       144.54400595, 139.985992  , 138.87249801, 139.63749699,\n",
       "       143.97799706, 149.57350205, 151.19349681, 150.61250275,\n",
       "       138.84550494, 157.63949633, 157.93550078, 161.41349791,\n",
       "       161.18949859, 159.00349365, 153.2935029 , 155.16700715,\n",
       "       156.51049754, 158.10049432, 154.65249622, 152.60150144,\n",
       "       150.19749449, 144.82699592, 151.35800151, 153.78849811,\n",
       "       153.56300416, 151.14199756, 152.0525055 , 147.8984992 ,\n",
       "       145.64100609, 137.45300311, 136.01449603, 139.27900703,\n",
       "       146.81750488, 145.52450585, 141.852997  , 147.36650082,\n",
       "       153.10400422, 157.2389977 , 161.25050347, 161.49150035,\n",
       "       164.88900814, 163.40800402, 163.64950537, 164.77349807,\n",
       "       168.99049323, 169.31500207, 166.3009943 , 162.99749843,\n",
       "       163.5599982 , 168.34649728, 164.05499341, 158.75599709,\n",
       "       157.78450095, 154.46049502, 151.12199405, 150.78750638,\n",
       "       155.5410005 , 151.70649747, 152.78500386, 158.11549487,\n",
       "       153.99800134, 148.29600491, 144.35000617, 146.07400522,\n",
       "       139.39100597, 138.16700705, 144.59649693, 124.28150156,\n",
       "       124.49999971, 124.25350165, 125.92849668, 116.40699777,\n",
       "       114.77249859, 108.78900108, 108.85900087, 105.37200258,\n",
       "       106.93049633, 113.05500026, 110.81050027, 115.36849945,\n",
       "       107.11250203, 107.31899932, 107.59100206, 107.55699859,\n",
       "       104.09999723, 106.77500217, 111.07749796, 115.14649924,\n",
       "       120.20950373, 121.68399773, 125.51100153, 122.34999838,\n",
       "       124.79000061, 122.99999997, 121.17999927, 116.15000183,\n",
       "       109.65000262, 103.66999676, 102.30999972, 107.66999884,\n",
       "       103.66000334, 106.22000059, 108.67999903, 108.94999642,\n",
       "       112.44000274, 116.45999999, 113.22000006, 107.40000145,\n",
       "       108.9199974 , 106.20999883, 109.55999724, 113.4999992 ,\n",
       "       114.33000113, 116.33000217, 115.54000101, 111.75000038,\n",
       "       109.22000006, 110.40000301, 110.62999754, 113.55000381,\n",
       "       113.76000109, 118.20999881, 122.7699971 , 124.62999648,\n",
       "       122.41999817, 121.1399985 , 114.80999788, 120.970002  ,\n",
       "       122.27999859, 134.9499969 , 135.38999913, 134.16000408,\n",
       "       139.52000401, 142.57000702, 140.80000299, 139.41000401,\n",
       "       137.83000201, 142.69000204, 140.63999899, 143.55000299,\n",
       "       143.17999299, 144.77999882, 142.10000604, 142.30000312,\n",
       "       138.22999604, 133.22000107, 133.61999523, 133.80000287,\n",
       "       137.27999909, 130.74999983, 129.78999278, 128.72999632,\n",
       "       126.76999709, 127.82000014, 127.51000198, 126.11000104,\n",
       "       129.47999567, 129.82000743, 133.27000412, 136.4499969 ,\n",
       "       126.81999962, 128.55000327, 126.27999859, 123.52999924,\n",
       "       124.66000383, 122.19000155, 118.54000049, 117.3099971 ,\n",
       "       113.77999835, 115.15000131, 114.41000476, 118.01000121,\n",
       "       114.80000238, 113.00000103, 115.8799961 , 121.08999597,\n",
       "       120.9499964 , 120.30000315, 114.55999775, 113.66999779,\n",
       "       112.20999986, 112.90000222, 112.52999978, 106.90000119,\n",
       "       113.7900001 , 116.36000119, 115.06999977, 115.25000011,\n",
       "       119.31999989, 119.82000015, 120.59999747, 115.66000333,\n",
       "       110.95999922, 103.4100053 , 102.44000171,  96.79000169,\n",
       "        92.12000285,  89.30000372,  90.98000276,  90.52999877,\n",
       "        89.98000224,  86.13999907,  96.62999861, 100.7899996 ,\n",
       "        98.49000007,  98.94000406,  97.12000128,  94.84999868,\n",
       "        94.13999906,  92.46000002,  93.19999657,  94.12999731,\n",
       "        93.41000427,  93.94999905,  92.41999717,  96.53999948,\n",
       "        95.50000027,  94.12999731,  91.01000386,  88.24999859,\n",
       "        88.45999795,  90.34999634,  89.08999602,  90.55000228,\n",
       "        92.48999695,  91.5800039 ,  88.44999619,  87.86000097,\n",
       "        84.91999744,  85.19000317,  86.76999715,  83.7899991 ,\n",
       "        85.2500012 ,  83.0400008 ,  81.81999916,  84.18000089,\n",
       "        83.99999846,  85.82000124,  85.13999855,  83.12000234,\n",
       "        86.08000104,  87.36000071,  89.87000376,  95.08999497,\n",
       "        95.2699974 ,  98.1200018 ,  96.05000097,  95.45999741,\n",
       "        93.68000166,  97.24999909,  97.51999648,  96.31999836,\n",
       "        97.17999931,  99.21999903, 102.23999994, 100.55000331,\n",
       "       103.12999781, 105.15000237, 112.91000398, 103.38999762,\n",
       "       102.18000191, 102.11000212, 100.05000305,  98.23999786,\n",
       "        97.60999978,  99.54000104,  99.69999578, 101.16000204,\n",
       "        98.1500029 ,  97.19999865,  94.58000129,  95.79000117,\n",
       "        95.8199981 ,  93.49999923,  93.7600032 ,  94.23000236,\n",
       "        92.16999912,  92.12999627,  94.90000329,  93.75000145,\n",
       "        93.55000384,  93.91999795,  92.25000067,  90.73000471,\n",
       "        92.42999892,  94.87999561,  96.19999813, 100.0400013 ,\n",
       "        98.94999748,  97.71000067, 100.61000134,  98.69999526,\n",
       "        98.70999702,  98.12999522,  98.04000026,  97.23999734,\n",
       "       100.25000065, 101.99999948, 103.2900009 , 102.41000478,\n",
       "       103.94999591, 101.09999984])"
      ]
     },
     "execution_count": 431,
     "metadata": {},
     "output_type": "execute_result"
    }
   ],
   "source": [
    "dummies = np.zeros((X_test.shape[0], lookback+1))\n",
    "dummies[:, 0] = y_test.flatten()\n",
    "dummies = scaler.inverse_transform(dummies)\n",
    "\n",
    "new_y_test = dc(dummies[:, 0])\n",
    "new_y_test"
   ]
  },
  {
   "cell_type": "code",
   "execution_count": 432,
   "id": "b6bfdb27-2f22-4508-a46e-a5846899bdb0",
   "metadata": {},
   "outputs": [
    {
     "data": {
      "image/png": "[encoded data removed]",
      "text/plain": [
       "<Figure size 640x480 with 1 Axes>"
      ]
     },
     "metadata": {},
     "output_type": "display_data"
    }
   ],
   "source": [
    "plt.plot(new_y_test, label='Actual Close')\n",
    "plt.plot(test_predictions, label='Predicted Close')\n",
    "plt.xlabel('Day')\n",
    "plt.ylabel('Close')\n",
    "plt.legend()\n",
    "plt.show()"
   ]
  },
  {
   "cell_type": "code",
   "execution_count": 433,
   "id": "8080586b-a2d6-4275-8cde-c57cf9e57c15",
   "metadata": {},
   "outputs": [],
   "source": [
    "def log_predictions_to_tensorboard(y_actual, y_predicted, title, step):\n",
    "    fig, ax = plt.subplots()\n",
    "    ax.plot(y_actual, label='Actual Close')\n",
    "    ax.plot(y_predicted, label='Predicted Close')\n",
    "    ax.set_xlabel('Day')\n",
    "    ax.set_ylabel('Close')\n",
    "    ax.legend()\n",
    "    writer.add_figure(title, fig, global_step=step)\n",
    "    "
   ]
  },
  {
   "cell_type": "code",
   "execution_count": 434,
   "id": "8bcd0a5c-da60-48de-a3db-7d9410b076c1",
   "metadata": {},
   "outputs": [],
   "source": [
    "log_predictions_to_tensorboard(new_y_train, train_predictions, \"Train Predictions\", epoch)\n",
    "log_predictions_to_tensorboard(new_y_test, test_predictions, \"Test Predictions\", epoch)"
   ]
  },
  {
   "cell_type": "code",
   "execution_count": 435,
   "id": "93b27864-b24c-4fea-9930-cd8cf6840a4f",
   "metadata": {},
   "outputs": [
    {
     "name": "stderr",
     "output_type": "stream",
     "text": [
      "/var/folders/0_/gschhs596250ygzy70q0br4r0000gn/T/ipykernel_46547/706240240.py:2: FutureWarning: You are using `torch.load` with `weights_only=False` (the current default value), which uses the default pickle module implicitly. It is possible to construct malicious pickle data which will execute arbitrary code during unpickling (See https://github.com/pytorch/pytorch/blob/main/SECURITY.md#untrusted-models for more details). In a future release, the default value for `weights_only` will be flipped to `True`. This limits the functions that could be executed during unpickling. Arbitrary objects will no longer be allowed to be loaded via this mode unless they are explicitly allowlisted by the user via `torch.serialization.add_safe_globals`. We recommend you start setting `weights_only=True` for any use case where you don't have full control of the loaded file. Please open an issue on GitHub for any issues related to this experimental feature.\n",
      "  loaded_model.load_state_dict(torch.load(model_save_path))\n"
     ]
    },
    {
     "data": {
      "text/plain": [
       "LSTM(\n",
       "  (lstm): LSTM(1, 4, batch_first=True)\n",
       "  (fc): Linear(in_features=4, out_features=1, bias=True)\n",
       ")"
      ]
     },
     "execution_count": 435,
     "metadata": {},
     "output_type": "execute_result"
    }
   ],
   "source": [
    "loaded_model = LSTM(1, 4, 1)\n",
    "loaded_model.load_state_dict(torch.load(model_save_path))\n",
    "loaded_model.to(device)\n",
    "loaded_model.eval()"
   ]
  },
  {
   "cell_type": "code",
   "execution_count": 436,
   "id": "d856f575-75fe-4c98-b16e-1e47ae41f617",
   "metadata": {},
   "outputs": [],
   "source": [
    "def predict_future_values(model, initial_sequence, n_future_steps, lookback):\n",
    "    \"\"\"\n",
    "    Prédit les valeurs futures en utilisant le modèle LSTM.\n",
    "    \n",
    "    Arguments:\n",
    "    - model: le modèle LSTM entraîné.\n",
    "    - initial_sequence: la séquence initiale utilisée pour prédire les valeurs futures.\n",
    "    - n_future_steps: le nombre de pas dans le futur à prédire.\n",
    "    - lookback: la taille de la fenêtre glissante.\n",
    "    \n",
    "    Retourne:\n",
    "    - Une liste des prédictions futures.\n",
    "    \"\"\"\n",
    "    model.eval()\n",
    "    predictions = []\n",
    "    \n",
    "    # Assurez-vous que la séquence initiale est un tenseur 3D [batch_size, lookback, features]\n",
    "    input_seq = initial_sequence.reshape(1, lookback, 1).to(device)\n",
    "\n",
    "    with torch.no_grad():\n",
    "        for _ in range(n_future_steps):\n",
    "            # Obtenir la prédiction pour l'étape suivante\n",
    "            pred = model(input_seq)\n",
    "            predictions.append(pred.item())\n",
    "            \n",
    "            # Mettre à jour la séquence en supprimant le plus ancien et en ajoutant la prédiction\n",
    "            new_input = pred.reshape(1, 1, 1)  # Forme [batch_size, 1, features]\n",
    "            input_seq = torch.cat((input_seq[:, 1:, :], new_input), dim=1)\n",
    "    \n",
    "    return predictions\n"
   ]
  },
  {
   "cell_type": "code",
   "execution_count": 437,
   "id": "213a8e33-2521-414f-bfda-4b3b2f66e02e",
   "metadata": {},
   "outputs": [],
   "source": [
    "initial_sequence = X_test[-1]\n",
    "\n",
    "# Nombre de prédictions futures\n",
    "n_future_steps = 7\n",
    "\n",
    "# Prédire les valeurs futures\n",
    "future_predictions = predict_future_values(loaded_model, initial_sequence, n_future_steps, lookback)"
   ]
  },
  {
   "cell_type": "code",
   "execution_count": 438,
   "id": "73db1144-54f1-4514-bfeb-f76d436e0706",
   "metadata": {},
   "outputs": [],
   "source": [
    "dummies = np.zeros((len(future_predictions), lookback + 1))\n",
    "dummies[:, 0] = future_predictions\n",
    "dummies = scaler.inverse_transform(dummies)\n",
    "future_predictions = dummies[:, 0]"
   ]
  },
  {
   "cell_type": "code",
   "execution_count": 451,
   "id": "84a7d38d-bf38-44ae-9ea8-9b3eb1f54d04",
   "metadata": {},
   "outputs": [
    {
     "name": "stdout",
     "output_type": "stream",
     "text": [
      "        Date  Predicted Close\n",
      "0 2023-04-06       100.850181\n",
      "1 2023-04-07       100.861308\n",
      "2 2023-04-08       100.879140\n",
      "3 2023-04-09       100.879699\n",
      "4 2023-04-10       100.831862\n",
      "5 2023-04-11       100.801127\n",
      "6 2023-04-12       100.768758\n"
     ]
    },
    {
     "name": "stderr",
     "output_type": "stream",
     "text": [
      "/var/folders/0_/gschhs596250ygzy70q0br4r0000gn/T/ipykernel_46547/1463536236.py:1: SettingWithCopyWarning: \n",
      "A value is trying to be set on a copy of a slice from a DataFrame.\n",
      "Try using .loc[row_indexer,col_indexer] = value instead\n",
      "\n",
      "See the caveats in the documentation: https://pandas.pydata.org/pandas-docs/stable/user_guide/indexing.html#returning-a-view-versus-a-copy\n",
      "  data['Date'] = pd.to_datetime(data['Date'])\n",
      "/var/folders/0_/gschhs596250ygzy70q0br4r0000gn/T/ipykernel_46547/1463536236.py:2: SettingWithCopyWarning: \n",
      "A value is trying to be set on a copy of a slice from a DataFrame\n",
      "\n",
      "See the caveats in the documentation: https://pandas.pydata.org/pandas-docs/stable/user_guide/indexing.html#returning-a-view-versus-a-copy\n",
      "  data.sort_values('Date', inplace=True)\n"
     ]
    }
   ],
   "source": [
    "data['Date'] = pd.to_datetime(data['Date'])\n",
    "data.sort_values('Date', inplace=True)\n",
    "\n",
    "# Récupérer la dernière date du dataset\n",
    "last_date = data['Date'].iloc[-1]\n",
    "\n",
    "# Générer des dates futures à partir de la dernière date\n",
    "future_dates = pd.date_range(start=last_date + pd.Timedelta(days=1), periods=n_future_steps, inclusive='left')\n",
    "\n",
    "# Créer un DataFrame pour les résultats\n",
    "future_df = pd.DataFrame({\n",
    "    'Date': future_dates,\n",
    "    'Predicted Close': future_predictions\n",
    "})\n",
    "\n",
    "# Afficher le tableau des prédictions futures\n",
    "print(future_df)"
   ]
  },
  {
   "cell_type": "code",
   "execution_count": 452,
   "id": "2809a17c-1650-4eeb-aab1-6a33a8275572",
   "metadata": {},
   "outputs": [
    {
     "name": "stdout",
     "output_type": "stream",
     "text": [
      "        Date  Predicted Close\n",
      "0 2023-04-06       100.850181\n",
      "1 2023-04-07       100.861308\n",
      "2 2023-04-08       100.879140\n",
      "3 2023-04-09       100.879699\n",
      "4 2023-04-10       100.831862\n",
      "5 2023-04-11       100.801127\n",
      "6 2023-04-12       100.768758\n"
     ]
    }
   ],
   "source": [
    "def log_table_to_tensorboard(df, title, step):\n",
    "    \"\"\"\n",
    "    Loggue un tableau Pandas sous forme de texte dans TensorBoard.\n",
    "    \n",
    "    Arguments :\n",
    "    - df : DataFrame à logger\n",
    "    - title : Titre pour la section dans TensorBoard\n",
    "    - step : Étape actuelle pour le suivi\n",
    "    \"\"\"\n",
    "    # Convertir le DataFrame en texte formaté\n",
    "    table_text = df.to_string(index=False)\n",
    "    \n",
    "    # Ajout au logger TensorBoard\n",
    "    writer.add_text(title, f\"```\\n{table_text}\\n```\", global_step=step)\n",
    "\n",
    "print(future_df)\n",
    "log_table_to_tensorboard(future_df, 'Future Predictions', epoch)\n",
    "\n",
    "# Fermer TensorBoard\n",
    "writer.close()"
   ]
  }
 ],
 "metadata": {
  "kernelspec": {
   "display_name": "Python 3 (ipykernel)",
   "language": "python",
   "name": "python3"
  },
  "language_info": {
   "codemirror_mode": {
    "name": "ipython",
    "version": 3
   },
   "file_extension": ".py",
   "mimetype": "text/x-python",
   "name": "python",
   "nbconvert_exporter": "python",
   "pygments_lexer": "ipython3",
   "version": "3.9.20"
  }
 },
 "nbformat": 4,
 "nbformat_minor": 5
}
